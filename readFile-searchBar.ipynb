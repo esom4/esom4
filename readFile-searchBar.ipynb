{
 "cells": [
  {
   "cell_type": "code",
   "execution_count": 2,
   "metadata": {},
   "outputs": [
    {
     "name": "stderr",
     "output_type": "stream",
     "text": [
      "D:\\Programs\\Anaconda\\envs\\mrRobot\\lib\\site-packages\\ipykernel_launcher.py:23: DeprecationWarning: executable_path has been deprecated, please pass in a Service object\n"
     ]
    },
    {
     "ename": "KeyboardInterrupt",
     "evalue": "",
     "output_type": "error",
     "traceback": [
      "\u001b[1;31m---------------------------------------------------------------------------\u001b[0m",
      "\u001b[1;31mKeyboardInterrupt\u001b[0m                         Traceback (most recent call last)",
      "\u001b[1;32m<ipython-input-2-f040bbaa8873>\u001b[0m in \u001b[0;36m<module>\u001b[1;34m\u001b[0m\n\u001b[0;32m     73\u001b[0m     \u001b[0mbarraRicerca\u001b[0m\u001b[1;33m.\u001b[0m\u001b[0msend_keys\u001b[0m\u001b[1;33m(\u001b[0m\u001b[0mKeys\u001b[0m\u001b[1;33m.\u001b[0m\u001b[0mENTER\u001b[0m\u001b[1;33m)\u001b[0m\u001b[1;33m\u001b[0m\u001b[1;33m\u001b[0m\u001b[0m\n\u001b[0;32m     74\u001b[0m \u001b[1;33m\u001b[0m\u001b[0m\n\u001b[1;32m---> 75\u001b[1;33m     \u001b[0mtime\u001b[0m\u001b[1;33m.\u001b[0m\u001b[0msleep\u001b[0m\u001b[1;33m(\u001b[0m\u001b[1;36m5\u001b[0m\u001b[1;33m)\u001b[0m\u001b[1;33m\u001b[0m\u001b[1;33m\u001b[0m\u001b[0m\n\u001b[0m\u001b[0;32m     76\u001b[0m     \u001b[1;31m# identify the element of the classification of the mutation\u001b[0m\u001b[1;33m\u001b[0m\u001b[1;33m\u001b[0m\u001b[1;33m\u001b[0m\u001b[0m\n\u001b[0;32m     77\u001b[0m     \u001b[0mcategoriaMutazione\u001b[0m \u001b[1;33m=\u001b[0m \u001b[0mdriver\u001b[0m\u001b[1;33m.\u001b[0m\u001b[0mfind_element\u001b[0m\u001b[1;33m(\u001b[0m\u001b[0mBy\u001b[0m\u001b[1;33m.\u001b[0m\u001b[0mCLASS_NAME\u001b[0m\u001b[1;33m,\u001b[0m \u001b[1;34m\"indicator-text\"\u001b[0m\u001b[1;33m)\u001b[0m\u001b[1;33m\u001b[0m\u001b[1;33m\u001b[0m\u001b[0m\n",
      "\u001b[1;31mKeyboardInterrupt\u001b[0m: "
     ]
    }
   ],
   "source": [
    "from selenium.webdriver.common.by import By\n",
    "from selenium.webdriver.support.ui import WebDriverWait\n",
    "from selenium.webdriver.support import expected_conditions as EC\n",
    "from selenium.webdriver.common.keys import Keys\n",
    "from selenium import webdriver\n",
    "from bs4 import BeautifulSoup\n",
    "import configparser\n",
    "import time\n",
    "import pandas as pd \n",
    "\n",
    "# Create a ConfigParser object\n",
    "configDriver = configparser.ConfigParser()\n",
    "\n",
    "# Read the configuration from the file\n",
    "configDriver.read('config.properties')\n",
    "\n",
    "# Get the value of the \"driver_path\" key\n",
    "driver_path = configDriver['DEFAULT']['driver_path']\n",
    "\n",
    "# LOG IN \n",
    "\n",
    "# create a new instance of the Chrome driver\n",
    "driver = webdriver.Chrome(executable_path=driver_path)\n",
    "# if environment path variable driver = webdriver.Chrome()\n",
    "\n",
    "# create a new instance of the ConfigParser class\n",
    "config = configparser.ConfigParser()\n",
    "\n",
    "# read the contents of the keystore.properties file\n",
    "config.read('keystore.properties')\n",
    "\n",
    "# navigate to the login page\n",
    "driver.get(\"https://franklin.genoox.com/login\")\n",
    "\n",
    "# enter the username and password\n",
    "username = config.get('FRANKLIN', 'username')\n",
    "password = config.get('FRANKLIN', 'password')\n",
    "\n",
    "username_field = driver.find_element(By.ID, \"email\")\n",
    "password_field = driver.find_element(By.ID, \"password\")\n",
    "\n",
    "username_field.send_keys(username)\n",
    "password_field.send_keys(password)\n",
    "\n",
    "# submit the login form\n",
    "password_field.send_keys(Keys.RETURN)\n",
    "\n",
    "# wait for the page to load after login\n",
    "time.sleep(3)\n",
    "\n",
    "# navigate to the page with the data\n",
    "driver.get(\"https://franklin.genoox.com/clinical-db/home\")\n",
    "\n",
    "# get the HTML content of the page and parse it with BeautifulSoup\n",
    "html_content = driver.page_source\n",
    "soup = BeautifulSoup(html_content, \"html.parser\")\n",
    "\n",
    "# extract the relevant data from the HTML code using BeautifulSoup\n",
    "# ...\n",
    "\n",
    "## SEARCH THE VARIANTS\n",
    "\n",
    "df = pd.read_excel(\"D:\\DOTTORATO\\projects\\ProgettoEsomaRepo\\esoma\\data\\920-22 + Merge.xlsx\")\n",
    "# search for the bar\n",
    "driver.get(\"https://franklin.genoox.com/\")\n",
    "barraRicerca = driver.find_element(By.CLASS_NAME, \"ng-pristine\")\n",
    "\n",
    "# run over variants\n",
    "classification_list = list()\n",
    "for item in df['Merge'].values[:10]: \n",
    "    \n",
    "    barraRicerca.send_keys(item)\n",
    "    barraRicerca.send_keys(Keys.ENTER)\n",
    "    \n",
    "    time.sleep(5)\n",
    "    # identify the element of the classification of the mutation\n",
    "    categoriaMutazione = driver.find_element(By.CLASS_NAME, \"indicator-text\")\n",
    "    classification_list.append(categoriaMutazione.text)\n",
    "    # search the next variant - we have to find a different element to do the search in the already searched page\n",
    "    barraRicerca = driver.find_element(By.CLASS_NAME, \"search-input\")\n",
    "    # clear the content of the bar\n",
    "    barraRicerca.clear()\n",
    "    \n",
    "    \n",
    "print(classification_list)\n",
    "\n",
    "###\n",
    "\n",
    "# close the browser window\n",
    "driver.quit()"
   ]
  },
  {
   "cell_type": "code",
   "execution_count": 3,
   "metadata": {},
   "outputs": [
    {
     "data": {
      "text/plain": [
       "['VUS', 'Benign', 'Benign', 'Benign', 'Benign']"
      ]
     },
     "execution_count": 3,
     "metadata": {},
     "output_type": "execute_result"
    }
   ],
   "source": [
    "classification_list"
   ]
  },
  {
   "cell_type": "code",
   "execution_count": 18,
   "metadata": {},
   "outputs": [],
   "source": [
    "import configparser\n",
    "\n",
    "# Create a ConfigParser object\n",
    "config = configparser.ConfigParser()\n",
    "\n",
    "# Set the path to the Chrome driver\n",
    "path = \"D:\\DOTTORATO\\projects\\ProgettoEsoma\\chromedriver_win32\\chromedriver.exe\"\n",
    "\n",
    "# Set the value for the \"driver_path\" key\n",
    "config['DEFAULT'] = {'driver_path': path}\n",
    "\n",
    "# Write the configuration to a file\n",
    "with open('config.properties', 'w') as f:\n",
    "    config.write(f)"
   ]
  },
  {
   "cell_type": "code",
   "execution_count": 19,
   "metadata": {},
   "outputs": [
    {
     "name": "stderr",
     "output_type": "stream",
     "text": [
      "D:\\Programs\\Anaconda\\envs\\mrRobot\\lib\\site-packages\\ipykernel_launcher.py:14: DeprecationWarning: executable_path has been deprecated, please pass in a Service object\n",
      "  \n"
     ]
    }
   ],
   "source": [
    "import configparser\n",
    "\n",
    "# Create a ConfigParser object\n",
    "config = configparser.ConfigParser()\n",
    "\n",
    "# Read the configuration from the file\n",
    "config.read('config.properties')\n",
    "\n",
    "# Get the value of the \"driver_path\" key\n",
    "driver_path = config['DEFAULT']['driver_path']\n",
    "\n",
    "# Import the Chrome driver using the path\n",
    "from selenium import webdriver\n",
    "driver = webdriver.Chrome(driver_path)"
   ]
  }
 ],
 "metadata": {
  "kernelspec": {
   "display_name": "Python 3",
   "language": "python",
   "name": "python3"
  },
  "language_info": {
   "codemirror_mode": {
    "name": "ipython",
    "version": 3
   },
   "file_extension": ".py",
   "mimetype": "text/x-python",
   "name": "python",
   "nbconvert_exporter": "python",
   "pygments_lexer": "ipython3",
   "version": "3.7.11"
  }
 },
 "nbformat": 4,
 "nbformat_minor": 4
}
